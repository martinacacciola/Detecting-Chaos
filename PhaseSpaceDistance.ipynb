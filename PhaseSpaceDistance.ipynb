{
 "cells": [
  {
   "cell_type": "code",
   "execution_count": 1,
   "metadata": {},
   "outputs": [],
   "source": [
    "import numpy as np\n",
    "import matplotlib.pyplot as plt\n",
    "import pandas as pd"
   ]
  },
  {
   "cell_type": "code",
   "execution_count": 6,
   "metadata": {},
   "outputs": [
    {
     "name": "stdout",
     "output_type": "stream",
     "text": [
      "Δ² = 4842706.7648106795\n"
     ]
    }
   ],
   "source": [
    "df = pd.read_csv('./Brutus data/plummer_triples_L0_00_i1775_e90_Lw392.csv')\n",
    "\n",
    "forward_trajectory = df[df['Phase'] == 1]\n",
    "backward_trajectory = df[df['Phase'] == -1]\n",
    "\n",
    "total_timesteps = len(df['Timestep'].unique())\n",
    "midpoint = total_timesteps // 2  # Midpoint is 4702 (if total timesteps are 9405)\n",
    "\n",
    "particles = df['Particle Number'].unique()\n",
    "\n",
    "\n",
    "delta_2 = 0\n",
    "\n",
    "# Loop over each particle to calculate the phase space difference\n",
    "for p in particles:\n",
    "    forward_p = forward_trajectory[forward_trajectory['Particle Number'] == p]\n",
    "    backward_p = backward_trajectory[backward_trajectory['Particle Number'] == p]\n",
    "    \n",
    "    # Include only up to the midpoint for forward trajectory\n",
    "    forward_p = forward_p[forward_p['Timestep'] <= midpoint]\n",
    "    \n",
    "    # Include only up to the midpoint-1 for backward trajectory (exclude the flipped timestep)\n",
    "    backward_p = backward_p[backward_p['Timestep'] < midpoint]\n",
    "    \n",
    "    # Ensure that the lengths now match\n",
    "    # assert len(forward_p) == len(backward_p), f\"Length mismatch for particle {p}: forward({len(forward_p)}) != backward({len(backward_p)})\"\n",
    "    \n",
    "    x_f, y_f, z_f = forward_p['X Position'].values, forward_p['Y Position'].values, forward_p['Z Position'].values\n",
    "    x_b, y_b, z_b = backward_p['X Position'].values, backward_p['Y Position'].values, backward_p['Z Position'].values\n",
    "\n",
    "    vx_f, vy_f, vz_f = forward_p['X Velocity'].values, forward_p['Y Velocity'].values, forward_p['Z Velocity'].values\n",
    "    vx_b, vy_b, vz_b = backward_p['X Velocity'].values, backward_p['Y Velocity'].values, backward_p['Z Velocity'].values\n",
    "    \n",
    "    diff_vel = (vx_f - vx_b)**2 + (vy_f - vy_b)**2 + (vz_f - vz_b)**2\n",
    "    diff_pos = (x_f - x_b)**2 + (y_f - y_b)**2 + (z_f - z_b)**2\n",
    "    \n",
    "    # Sum over all phase-space coordinates for this particle\n",
    "    diff = diff_vel + diff_pos\n",
    "    \n",
    "    # Sum over all timesteps for this particle and add to total delta_2\n",
    "    delta_2 += np.sum(diff)\n",
    "\n",
    "# Delta^2 summed over all particles\n",
    "# print(f\"Δ² = {delta_2}\")\n",
    "\n",
    "# Delta between initial and final states\n"
   ]
  },
  {
   "cell_type": "code",
   "execution_count": 19,
   "metadata": {},
   "outputs": [
    {
     "name": "stdout",
     "output_type": "stream",
     "text": [
      "Forward Initial State (Particle 1):\n",
      "    Timestep  Particle Number      Mass  X Position  Y Position  Z Position  \\\n",
      "0       0.0                1  0.333333    0.954551   -1.967417    0.464114   \n",
      "\n",
      "   X Velocity  Y Velocity  Z Velocity  Phase  \n",
      "0         0.0        -0.0         0.0      1  \n",
      "Backward Final State (Particle 1):\n",
      "        Timestep  Particle Number      Mass  X Position  Y Position  \\\n",
      "28212    4702.0                1  0.333333    0.854793   -2.728481   \n",
      "\n",
      "       Z Position  X Velocity  Y Velocity  Z Velocity  Phase  \n",
      "28212    0.368119    0.042382   -0.155171    0.017275     -1  \n",
      "Max timestep in backward trajectory for Particle 1: 4702.0\n",
      "Delta² between initial and final states: 0.624557791675682\n"
     ]
    },
    {
     "data": {
      "text/plain": [
       "\" plt.plot(A)\\nplt.xlabel('Integration Step')\\nplt.ylabel('Amplification Factor')\\nplt.title('Amplification Factor vs. Integration Step')\\nplt.show() \""
      ]
     },
     "execution_count": 19,
     "metadata": {},
     "output_type": "execute_result"
    }
   ],
   "source": [
    "\n",
    "# Separate forward and backward trajectories\n",
    "forward_trajectory = df[df['Phase'] == 1]\n",
    "backward_trajectory = df[df['Phase'] == -1]\n",
    "\n",
    "total_timesteps = len(df['Timestep'].unique())\n",
    "midpoint = total_timesteps // 2  # Midpoint is 4702 (if total timesteps are 9405)\n",
    "\n",
    "particles = df['Particle Number'].unique()\n",
    "\n",
    "# Function to compute phase space distance Δ² between two states\n",
    "def compute_delta_2(forward_state, backward_state):\n",
    "    # Extract positions\n",
    "    x_f, y_f, z_f = forward_state['X Position'].values, forward_state['Y Position'].values, forward_state['Z Position'].values\n",
    "    x_b, y_b, z_b = backward_state['X Position'].values, backward_state['Y Position'].values, backward_state['Z Position'].values\n",
    "\n",
    "    # Extract velocities\n",
    "    vx_f, vy_f, vz_f = forward_state['X Velocity'].values, forward_state['Y Velocity'].values, forward_state['Z Velocity'].values\n",
    "    vx_b, vy_b, vz_b = backward_state['X Velocity'].values, backward_state['Y Velocity'].values, backward_state['Z Velocity'].values\n",
    "\n",
    "    # Compute the phase-space distance for this timestep\n",
    "    diff_vel = (vx_f - vx_b)**2 + (vy_f - vy_b)**2 + (vz_f - vz_b)**2\n",
    "    diff_pos = (x_f - x_b)**2 + (y_f - y_b)**2 + (z_f - z_b)**2\n",
    "    \n",
    "    return np.sum(diff_vel + diff_pos)\n",
    "\n",
    "# Delta_2 for initial and final states\n",
    "delta_2_initial_final = 0\n",
    "\n",
    "# Check for a single particle and inspect the values\n",
    "for p in particles[:1]:  # Let's check just for one particle for now\n",
    "    forward_p = forward_trajectory[forward_trajectory['Particle Number'] == p]\n",
    "    backward_p = backward_trajectory[backward_trajectory['Particle Number'] == p]\n",
    "    \n",
    "    # Extract initial (Timestep == 0)\n",
    "    forward_initial = forward_p[forward_p['Timestep'] == 0]\n",
    "    \n",
    "    # Extract the final timestep available in backward trajectory\n",
    "    max_backward_timestep = backward_p['Timestep'].max()\n",
    "    backward_final = backward_p[backward_p['Timestep'] == max_backward_timestep]\n",
    "    \n",
    "    # Print out the states for debugging\n",
    "    print(f\"Forward Initial State (Particle {p}):\\n\", forward_initial)\n",
    "    print(f\"Backward Final State (Particle {p}):\\n\", backward_final)\n",
    "    print(f\"Max timestep in backward trajectory for Particle {p}: {max_backward_timestep}\")\n",
    "    \n",
    "    # Compute the delta² for the initial and final state\n",
    "    delta_2_initial_final += compute_delta_2(forward_initial, backward_final)\n",
    "\n",
    "# Output the result\n",
    "print(f'Delta² between initial and final states: {delta_2_initial_final}')\n",
    "#print(f'Delta² after each integration step: {delta_2_per_step}')\n",
    "\n",
    "\n",
    "# Compute amplification factor for each integration step\n",
    "#A = [np.sqrt(delta_2_initial_final / delta_2_step) for delta_2_step in delta_2_per_step]\n",
    "\n",
    "# Plot the evolution of A over time\n",
    "\"\"\" plt.plot(A)\n",
    "plt.xlabel('Integration Step')\n",
    "plt.ylabel('Amplification Factor')\n",
    "plt.title('Amplification Factor vs. Integration Step')\n",
    "plt.show() \"\"\""
   ]
  }
 ],
 "metadata": {
  "kernelspec": {
   "display_name": "base",
   "language": "python",
   "name": "python3"
  },
  "language_info": {
   "codemirror_mode": {
    "name": "ipython",
    "version": 3
   },
   "file_extension": ".py",
   "mimetype": "text/x-python",
   "name": "python",
   "nbconvert_exporter": "python",
   "pygments_lexer": "ipython3",
   "version": "3.11.3"
  }
 },
 "nbformat": 4,
 "nbformat_minor": 2
}
